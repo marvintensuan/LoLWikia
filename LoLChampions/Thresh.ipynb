{
 "cells": [
  {
   "cell_type": "code",
   "execution_count": 1,
   "metadata": {},
   "outputs": [],
   "source": [
    "from bs4 import BeautifulSoup as bs\n",
    "from Champions import ChampionWikia"
   ]
  },
  {
   "cell_type": "code",
   "execution_count": 2,
   "metadata": {},
   "outputs": [],
   "source": [
    "CHAMPION_NAME = 'Thresh'"
   ]
  },
  {
   "cell_type": "code",
   "execution_count": 3,
   "metadata": {},
   "outputs": [
    {
     "output_type": "execute_result",
     "data": {
      "text/plain": [
       "200"
      ]
     },
     "metadata": {},
     "execution_count": 3
    }
   ],
   "source": [
    "CHAMPION = ChampionWikia(CHAMPION_NAME)\n",
    "CHAMPION.get()"
   ]
  },
  {
   "cell_type": "code",
   "execution_count": 4,
   "metadata": {},
   "outputs": [],
   "source": [
    "html = bs(CHAMPION.html, 'html.parser')"
   ]
  },
  {
   "cell_type": "code",
   "execution_count": 5,
   "metadata": {},
   "outputs": [
    {
     "output_type": "stream",
     "name": "stdout",
     "text": [
      "Health_Thresh 561\nHealthRegen_Thresh 7\nResourceBar_Thresh 274\nResourceRegen_Thresh 6\nArmor_Thresh 28\nAttackDamage_Thresh 56\nMagicResist_Thresh 30\nMovementSpeed_Thresh 335\nAttackRange_Thresh 450\n"
     ]
    }
   ],
   "source": [
    "for key, value in CHAMPION.base_stats.items():\n",
    "    if html.find('span', id=value) is not None:\n",
    "        print(value, html.find('span', id=value).string)\n",
    "    else:\n",
    "        print(value)"
   ]
  },
  {
   "cell_type": "code",
   "execution_count": 6,
   "metadata": {},
   "outputs": [
    {
     "output_type": "stream",
     "name": "stdout",
     "text": [
      "Health_Thresh_lvl 93.0\n",
      "HealthRegen_Thresh_lvl 0.55\n",
      "ResourceBar_Thresh_lvl 44.0\n",
      "ResourceRegen_Thresh_lvl 0.8\n",
      "Armor_Thresh_lvl 0.0\n",
      "AttackDamage_Thresh_lvl 2.2\n",
      "MagicResist_Thresh_lvl 0.5\n",
      "MovementSpeed_Thresh_lvl\n",
      "AttackRange_Thresh_lvl\n"
     ]
    }
   ],
   "source": [
    "for key, value in CHAMPION.base_stats_lvl.items():\n",
    "    if html.find('span', id=value) is not None:\n",
    "        print(value, float(html.find('span', id=value).string))\n",
    "    else:\n",
    "        print(value)"
   ]
  },
  {
   "cell_type": "code",
   "execution_count": null,
   "metadata": {},
   "outputs": [],
   "source": []
  }
 ],
 "metadata": {
  "kernelspec": {
   "name": "python381jvsc74a57bd097ae724bfa85b9b34df7982b8bb8c7216f435b92902d749e4263f71162bea840",
   "display_name": "Python 3.8.1 64-bit ('base': conda)"
  },
  "language_info": {
   "codemirror_mode": {
    "name": "ipython",
    "version": 3
   },
   "file_extension": ".py",
   "mimetype": "text/x-python",
   "name": "python",
   "nbconvert_exporter": "python",
   "pygments_lexer": "ipython3",
   "version": "3.8.1"
  },
  "metadata": {
   "interpreter": {
    "hash": "3246bd336a81bd79eb5530e6cd76dc05ca0c64b173e612ee1bd3c668d866e1e1"
   }
  }
 },
 "nbformat": 4,
 "nbformat_minor": 4
}