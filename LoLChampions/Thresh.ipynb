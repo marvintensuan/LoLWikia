{
 "cells": [
  {
   "cell_type": "markdown",
   "metadata": {},
   "source": [
    "# Champion Analysis: Thresh"
   ]
  },
  {
   "cell_type": "code",
   "execution_count": 1,
   "metadata": {},
   "outputs": [],
   "source": [
    "from bs4 import BeautifulSoup as bs\n",
    "from Champions import (\n",
    "    ChampionWikia,\n",
    "    ChampionAbility as Ability\n",
    ")"
   ]
  },
  {
   "cell_type": "code",
   "execution_count": 2,
   "metadata": {},
   "outputs": [],
   "source": [
    "CHAMPION_NAME = 'Thresh'"
   ]
  },
  {
   "cell_type": "code",
   "execution_count": 3,
   "metadata": {},
   "outputs": [
    {
     "data": {
      "text/plain": [
       "200"
      ]
     },
     "execution_count": 3,
     "metadata": {},
     "output_type": "execute_result"
    }
   ],
   "source": [
    "CHAMPION = ChampionWikia(CHAMPION_NAME)\n",
    "CHAMPION.get()"
   ]
  },
  {
   "cell_type": "code",
   "execution_count": 4,
   "metadata": {},
   "outputs": [],
   "source": [
    "html = bs(CHAMPION.html, 'html.parser')"
   ]
  },
  {
   "cell_type": "code",
   "execution_count": 5,
   "metadata": {
    "scrolled": true
   },
   "outputs": [
    {
     "name": "stdout",
     "output_type": "stream",
     "text": [
      "Health_Thresh --> 561.0\n",
      "HealthRegen_Thresh --> 7.0\n",
      "ResourceBar_Thresh --> 274.0\n",
      "ResourceRegen_Thresh --> 6.0\n",
      "Armor_Thresh --> 28.0\n",
      "AttackDamage_Thresh --> 56.0\n",
      "MagicResist_Thresh --> 30.0\n",
      "MovementSpeed_Thresh --> 335.0\n",
      "AttackRange_Thresh --> 450.0\n",
      "Health_Thresh_lvl --> 93.0\n",
      "HealthRegen_Thresh_lvl --> 0.55\n",
      "ResourceBar_Thresh_lvl --> 44.0\n",
      "ResourceRegen_Thresh_lvl --> 0.8\n",
      "Armor_Thresh_lvl --> 0.0\n",
      "AttackDamage_Thresh_lvl --> 2.2\n",
      "MagicResist_Thresh_lvl --> 0.5\n"
     ]
    }
   ],
   "source": [
    "#Base Stats\n",
    "\n",
    "for key, value in CHAMPION.base_stats.items():\n",
    "    if html.find('span', id=key) is not None:\n",
    "        CHAMPION.base_stats[key] = float(html.find('span', id=key).string)\n",
    "        print(f'{key} --> {CHAMPION.base_stats[key]}')\n",
    "\n",
    "for key, value in CHAMPION.base_stats_lvl.items():\n",
    "    if html.find('span', id=key) is not None:\n",
    "        CHAMPION.base_stats[key] = float(html.find('span', id=key).string)\n",
    "        print(f'{key} --> {CHAMPION.base_stats[key]}')"
   ]
  },
  {
   "cell_type": "markdown",
   "metadata": {},
   "source": [
    "# Abilities Cost Usage\n",
    "\n",
    "## Q: Death Sentence"
   ]
  },
  {
   "cell_type": "code",
   "execution_count": 6,
   "metadata": {},
   "outputs": [],
   "source": [
    "skill_q = Ability(ability_name='Death Sentence')"
   ]
  },
  {
   "cell_type": "code",
   "execution_count": 7,
   "metadata": {},
   "outputs": [],
   "source": [
    "table1 = html.find('div', {'class': 'skill_q'}).table"
   ]
  },
  {
   "cell_type": "code",
   "execution_count": 8,
   "metadata": {},
   "outputs": [],
   "source": [
    "# Skill Q Mana Cost\n",
    "skill_q_table1_text = list(table1.stripped_strings)\n",
    "for index, text in enumerate(skill_q_table1_text):\n",
    "    if text == 'COST:':\n",
    "        skill_q_mana_cost = skill_q_table1_text[index + 1]\n",
    "        break\n",
    "\n",
    "skill_q.ability_cost = int(skill_q_mana_cost.split()[0])"
   ]
  },
  {
   "cell_type": "code",
   "execution_count": 9,
   "metadata": {},
   "outputs": [
    {
     "data": {
      "text/plain": [
       "'25.55%'"
      ]
     },
     "execution_count": 9,
     "metadata": {},
     "output_type": "execute_result"
    }
   ],
   "source": [
    "# % Mana Cost Based on Level 1 Mana\n",
    "f\"{skill_q.ability_cost / CHAMPION.base_stats['ResourceBar_Thresh']:.2%}\""
   ]
  },
  {
   "cell_type": "code",
   "execution_count": 10,
   "metadata": {},
   "outputs": [
    {
     "data": {
      "text/plain": [
       "'11.7 seconds'"
      ]
     },
     "execution_count": 10,
     "metadata": {},
     "output_type": "execute_result"
    }
   ],
   "source": [
    "# Time required to recover Mana Cost via MP5\n",
    "f\"{skill_q.ability_cost / CHAMPION.base_stats['ResourceRegen_Thresh']:.3} seconds\""
   ]
  },
  {
   "cell_type": "code",
   "execution_count": null,
   "metadata": {},
   "outputs": [],
   "source": []
  }
 ],
 "metadata": {
  "kernelspec": {
   "display_name": "Python 3",
   "language": "python",
   "name": "python3"
  },
  "language_info": {
   "codemirror_mode": {
    "name": "ipython",
    "version": 3
   },
   "file_extension": ".py",
   "mimetype": "text/x-python",
   "name": "python",
   "nbconvert_exporter": "python",
   "pygments_lexer": "ipython3",
   "version": "3.8.1"
  },
  "metadata": {
   "interpreter": {
    "hash": "3246bd336a81bd79eb5530e6cd76dc05ca0c64b173e612ee1bd3c668d866e1e1"
   }
  }
 },
 "nbformat": 4,
 "nbformat_minor": 4
}
