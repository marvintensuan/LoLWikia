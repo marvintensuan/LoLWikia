{
 "cells": [
  {
   "cell_type": "markdown",
   "metadata": {},
   "source": [
    "# Champion Analysis: Thresh"
   ]
  },
  {
   "cell_type": "code",
   "execution_count": 1,
   "metadata": {},
   "outputs": [],
   "source": [
    "from unicodedata import normalize\n",
    "from bs4 import BeautifulSoup as bs\n",
    "import matplotlib.pyplot as plt\n",
    "from Champions import (\n",
    "    ChampionWikia,\n",
    "    ChampionAbility as Ability\n",
    ")"
   ]
  },
  {
   "cell_type": "code",
   "execution_count": 2,
   "metadata": {},
   "outputs": [],
   "source": [
    "CHAMPION_NAME = 'Thresh'"
   ]
  },
  {
   "cell_type": "code",
   "execution_count": 3,
   "metadata": {},
   "outputs": [
    {
     "data": {
      "text/plain": [
       "200"
      ]
     },
     "execution_count": 3,
     "metadata": {},
     "output_type": "execute_result"
    }
   ],
   "source": [
    "CHAMPION = ChampionWikia(CHAMPION_NAME)\n",
    "CHAMPION.get()"
   ]
  },
  {
   "cell_type": "code",
   "execution_count": 4,
   "metadata": {},
   "outputs": [],
   "source": [
    "html = bs(CHAMPION.html, 'html.parser')"
   ]
  },
  {
   "cell_type": "code",
   "execution_count": 5,
   "metadata": {
    "scrolled": true
   },
   "outputs": [
    {
     "name": "stdout",
     "output_type": "stream",
     "text": [
      "Health_Thresh --> 561.0\n",
      "HealthRegen_Thresh --> 7.0\n",
      "ResourceBar_Thresh --> 274.0\n",
      "ResourceRegen_Thresh --> 6.0\n",
      "Armor_Thresh --> 28.0\n",
      "AttackDamage_Thresh --> 56.0\n",
      "MagicResist_Thresh --> 30.0\n",
      "MovementSpeed_Thresh --> 335.0\n",
      "AttackRange_Thresh --> 450.0\n",
      "Health_Thresh_lvl --> 93.0\n",
      "HealthRegen_Thresh_lvl --> 0.55\n",
      "ResourceBar_Thresh_lvl --> 44.0\n",
      "ResourceRegen_Thresh_lvl --> 0.8\n",
      "Armor_Thresh_lvl --> 0.0\n",
      "AttackDamage_Thresh_lvl --> 2.2\n",
      "MagicResist_Thresh_lvl --> 0.5\n"
     ]
    }
   ],
   "source": [
    "#Base Stats\n",
    "\n",
    "for key, value in CHAMPION.base_stats.items():\n",
    "    if html.find('span', id=key) is not None:\n",
    "        CHAMPION.base_stats[key] = float(html.find('span', id=key).string)\n",
    "        print(f'{key} --> {CHAMPION.base_stats[key]}')\n",
    "\n",
    "for key, value in CHAMPION.base_stats_lvl.items():\n",
    "    if html.find('span', id=key) is not None:\n",
    "        CHAMPION.base_stats[key] = float(html.find('span', id=key).string)\n",
    "        print(f'{key} --> {CHAMPION.base_stats[key]}')"
   ]
  },
  {
   "cell_type": "markdown",
   "metadata": {},
   "source": [
    "# Abilities Cost Usage\n",
    "\n",
    "## Q: Death Sentence"
   ]
  },
  {
   "cell_type": "code",
   "execution_count": 6,
   "metadata": {},
   "outputs": [],
   "source": [
    "skill_q = Ability(ability_name='Death Sentence')"
   ]
  },
  {
   "cell_type": "code",
   "execution_count": 7,
   "metadata": {},
   "outputs": [],
   "source": [
    "skill_q_table1 = html.find('div', {'class': 'skill_q'}).table\n",
    "skill_q_table2 = skill_q_table1.next_sibling"
   ]
  },
  {
   "cell_type": "code",
   "execution_count": 8,
   "metadata": {},
   "outputs": [
    {
     "name": "stdout",
     "output_type": "stream",
     "text": [
      " skill_q.base_damage = [80, 120, 160, 200, 240]\n",
      " skill_q.base_damage_type = 'Magic Damage'\n",
      " skill_q.scale_damage = 50\n",
      " skill_q.scale_damage_attr = 'AP)'\n",
      " skill_q.ability_cost = 70\n",
      " skill_q.ability_cooldown = [20, 18, 16, 14, 12]\n"
     ]
    },
    {
     "data": {
      "text/plain": [
       "ChampionAbility(ability_name='Death Sentence', base_damage=[80, 120, 160, 200, 240], base_damage_type='Magic Damage')"
      ]
     },
     "execution_count": 8,
     "metadata": {},
     "output_type": "execute_result"
    }
   ],
   "source": [
    "# Skill Q Base Damage\n",
    "skill_q_damage = skill_q_table2.find('dd').get_text().split('(')\n",
    "skill_q.base_damage = list(map(int, skill_q_damage[0].split('/')))\n",
    "print(f'{ skill_q.base_damage = }')\n",
    "\n",
    "# Skill Q Base Damage Type\n",
    "skill_q.base_damage_type = skill_q_table2.find('dt').get_text().strip(':')\n",
    "print(f'{ skill_q.base_damage_type = }')\n",
    "\n",
    "# Skill Q Scale Damage\n",
    "skill_q.scale_damage = int(\"\".join(\n",
    "    filter(str.isdigit, normalize('NFKD', skill_q_damage[1]))\n",
    "))\n",
    "print(f'{ skill_q.scale_damage = }')\n",
    "\n",
    "# Skill Q Scale Damage Attribute\n",
    "skill_q.scale_damage_attr = skill_q_damage[1].replace(str(skill_q.scale_damage), '').split(' ')[1]\n",
    "print(f'{ skill_q.scale_damage_attr = }')\n",
    "\n",
    "# Skill Q Mana Cost\n",
    "skill_q_table1_text = list(skill_q_table1.stripped_strings)\n",
    "for index, text in enumerate(skill_q_table1_text):\n",
    "    if text == 'COST:':\n",
    "        skill_q_mana_cost = skill_q_table1_text[index + 1]\n",
    "    if text == 'COOLDOWN:':\n",
    "        skill_q_cooldown = skill_q_table1_text[index + 1]\n",
    "\n",
    "skill_q.ability_cost = int(skill_q_mana_cost.split()[0])\n",
    "print(f'{ skill_q.ability_cost = }')\n",
    "\n",
    "# Skill Q Cooldown\n",
    "skill_q.ability_cooldown = list(map(int, skill_q_cooldown.split('/')))\n",
    "print(f'{ skill_q.ability_cooldown = }')\n",
    "\n",
    "skill_q"
   ]
  },
  {
   "cell_type": "code",
   "execution_count": 9,
   "metadata": {},
   "outputs": [
    {
     "name": "stderr",
     "output_type": "stream",
     "text": [
      "<ipython-input-9-4659719f1cfe>:9: MatplotlibDeprecationWarning: Adding an axes using the same arguments as a previous axes currently reuses the earlier instance.  In a future version, a new instance will always be created and returned.  Meanwhile, this warning can be suppressed, and the future behavior ensured, by passing a unique label to each axes instance.\n",
      "  plt.subplot(111)\n"
     ]
    },
    {
     "data": {
      "image/png": "[encoded data removed]",
      "text/plain": [
       "<Figure size 432x288 with 1 Axes>"
      ]
     },
     "metadata": {
      "needs_background": "light"
     },
     "output_type": "display_data"
    }
   ],
   "source": [
    "# % Mana Cost Based on Base Mana from Level 1 to 18\n",
    "cost_usage_pct = plt.plot(\n",
    "    range(1,19),\n",
    "    [CHAMPION.stat_resource_cost_percentage(skill_q, level = lvl) * 100 for lvl in range(1,19)],\n",
    "    'r--'\n",
    ")\n",
    "\n",
    "plt.figure(1)\n",
    "plt.subplot(111)\n",
    "plt.title(skill_q.ability_name)\n",
    "plt.xticks(list(range(1,19)))\n",
    "plt.xlabel(f'{CHAMPION.champion_name} levels')\n",
    "plt.ylabel('% Mana Cost over Total Mana')\n",
    "plt.show()"
   ]
  },
  {
   "cell_type": "code",
   "execution_count": 10,
   "metadata": {},
   "outputs": [
    {
     "data": {
      "text/plain": [
       "'11.7 seconds'"
      ]
     },
     "execution_count": 10,
     "metadata": {},
     "output_type": "execute_result"
    }
   ],
   "source": [
    "# Time required to recover Mana Cost via MP5 at Level 1\n",
    "f\"{skill_q.ability_cost / CHAMPION.base_stats['ResourceRegen_Thresh']:.3} seconds\""
   ]
  },
  {
   "cell_type": "code",
   "execution_count": 11,
   "metadata": {},
   "outputs": [
    {
     "data": {
      "text/plain": [
       "'3.57 seconds'"
      ]
     },
     "execution_count": 11,
     "metadata": {},
     "output_type": "execute_result"
    }
   ],
   "source": [
    "# Time required to recover Mana Cost via MP5 at Level 18\n",
    "f\"{skill_q.ability_cost / (CHAMPION.base_stats['ResourceRegen_Thresh'] + 17 * CHAMPION.base_stats['ResourceRegen_Thresh_lvl']):.3} seconds\""
   ]
  },
  {
   "cell_type": "code",
   "execution_count": null,
   "metadata": {},
   "outputs": [],
   "source": []
  }
 ],
 "metadata": {
  "kernelspec": {
   "display_name": "Python 3",
   "language": "python",
   "name": "python3"
  },
  "language_info": {
   "codemirror_mode": {
    "name": "ipython",
    "version": 3
   },
   "file_extension": ".py",
   "mimetype": "text/x-python",
   "name": "python",
   "nbconvert_exporter": "python",
   "pygments_lexer": "ipython3",
   "version": "3.8.1"
  },
  "metadata": {
   "interpreter": {
    "hash": "3246bd336a81bd79eb5530e6cd76dc05ca0c64b173e612ee1bd3c668d866e1e1"
   }
  }
 },
 "nbformat": 4,
 "nbformat_minor": 4
}
